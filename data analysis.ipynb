{
 "cells": [
  {
   "cell_type": "code",
   "execution_count": 267,
   "id": "b42e9bf9",
   "metadata": {},
   "outputs": [],
   "source": [
    "import pandas as pd\n",
    "import seaborn as sns\n",
    "import matplotlib.pyplot as plt\n",
    "import numpy as np\n",
    "from sklearn.preprocessing import MinMaxScaler\n",
    "from sklearn.preprocessing import LabelEncoder\n",
    "from sklearn.model_selection import train_test_split\n",
    "from sklearn.linear_model import LogisticRegression\n",
    "from sklearn.metrics import accuracy_score\n"
   ]
  },
  {
   "cell_type": "markdown",
   "id": "ab8f9fdf",
   "metadata": {},
   "source": [
    "# read data"
   ]
  },
  {
   "cell_type": "code",
   "execution_count": 268,
   "id": "061e252d",
   "metadata": {},
   "outputs": [],
   "source": [
    "data = pd.read_excel('generated_data.xlsx')"
   ]
  },
  {
   "cell_type": "code",
   "execution_count": 269,
   "id": "29b5d6cd",
   "metadata": {
    "scrolled": true
   },
   "outputs": [
    {
     "data": {
      "text/html": [
       "<div>\n",
       "<style scoped>\n",
       "    .dataframe tbody tr th:only-of-type {\n",
       "        vertical-align: middle;\n",
       "    }\n",
       "\n",
       "    .dataframe tbody tr th {\n",
       "        vertical-align: top;\n",
       "    }\n",
       "\n",
       "    .dataframe thead th {\n",
       "        text-align: right;\n",
       "    }\n",
       "</style>\n",
       "<table border=\"1\" class=\"dataframe\">\n",
       "  <thead>\n",
       "    <tr style=\"text-align: right;\">\n",
       "      <th></th>\n",
       "      <th>First Name</th>\n",
       "      <th>Last Name</th>\n",
       "      <th>Gender</th>\n",
       "      <th>Nationality</th>\n",
       "      <th>Language</th>\n",
       "      <th>TRN</th>\n",
       "      <th>Address Name</th>\n",
       "      <th>Type</th>\n",
       "      <th>Emirate</th>\n",
       "      <th>Description Location</th>\n",
       "      <th>Location</th>\n",
       "      <th>Date Inquiry</th>\n",
       "      <th>Services</th>\n",
       "      <th>Source</th>\n",
       "      <th>Description</th>\n",
       "      <th>Status</th>\n",
       "    </tr>\n",
       "  </thead>\n",
       "  <tbody>\n",
       "    <tr>\n",
       "      <th>0</th>\n",
       "      <td>Charles</td>\n",
       "      <td>Jimenez</td>\n",
       "      <td>male</td>\n",
       "      <td>asia&amp;africa male</td>\n",
       "      <td>French</td>\n",
       "      <td>2abe1446-3cd7-497d-8c80-aa800b222777</td>\n",
       "      <td>Joel Walk</td>\n",
       "      <td>house</td>\n",
       "      <td>Emara 1</td>\n",
       "      <td>Perform information particular else past drop....</td>\n",
       "      <td>4402 Schultz Knoll Suite 370\\nWest Jenniferche...</td>\n",
       "      <td>2024-02-02</td>\n",
       "      <td>electric</td>\n",
       "      <td>website</td>\n",
       "      <td>Sense social security food structure still tra...</td>\n",
       "      <td>done</td>\n",
       "    </tr>\n",
       "    <tr>\n",
       "      <th>1</th>\n",
       "      <td>Barbara</td>\n",
       "      <td>Ramirez</td>\n",
       "      <td>male</td>\n",
       "      <td>UAE male</td>\n",
       "      <td>French</td>\n",
       "      <td>92d57142-0da8-49d1-8891-0c4c4f0fcab6</td>\n",
       "      <td>Dawson Run</td>\n",
       "      <td>company</td>\n",
       "      <td>Emara 1</td>\n",
       "      <td>Computer may property. Special make character ...</td>\n",
       "      <td>1252 Ebony Hill Suite 719\\nPort Jacqueline, VT...</td>\n",
       "      <td>2024-01-05</td>\n",
       "      <td>climatisation</td>\n",
       "      <td>whats up marketing</td>\n",
       "      <td>Southern yeah list school. Voice let where eve...</td>\n",
       "      <td>done</td>\n",
       "    </tr>\n",
       "    <tr>\n",
       "      <th>2</th>\n",
       "      <td>Victor</td>\n",
       "      <td>Silva</td>\n",
       "      <td>female</td>\n",
       "      <td>UAE female</td>\n",
       "      <td>English</td>\n",
       "      <td>27bb7a33-aa22-4227-b01c-a55393fc5419</td>\n",
       "      <td>Molly Mall</td>\n",
       "      <td>company</td>\n",
       "      <td>Emara 3</td>\n",
       "      <td>Important glass identify live owner. Find sell...</td>\n",
       "      <td>USCGC Compton\\nFPO AE 36672</td>\n",
       "      <td>2024-01-13</td>\n",
       "      <td>climatisation</td>\n",
       "      <td>from service provider</td>\n",
       "      <td>Share size impact where set gun however. Direc...</td>\n",
       "      <td>done</td>\n",
       "    </tr>\n",
       "    <tr>\n",
       "      <th>3</th>\n",
       "      <td>Gary</td>\n",
       "      <td>Phillips</td>\n",
       "      <td>female</td>\n",
       "      <td>Euroupe&amp;american&amp;Australia&amp;Russia male</td>\n",
       "      <td>Spanish</td>\n",
       "      <td>676339fd-f96a-4a75-8be4-5f67fa8404cb</td>\n",
       "      <td>Clark Gardens</td>\n",
       "      <td>house</td>\n",
       "      <td>Emara 3</td>\n",
       "      <td>Attorney rate pay positive kitchen or. From ho...</td>\n",
       "      <td>09467 Danielle Heights\\nEast Rachel, WI 97146</td>\n",
       "      <td>2024-03-13</td>\n",
       "      <td>plumber</td>\n",
       "      <td>snapchat</td>\n",
       "      <td>Training early one success son hope. Top sound...</td>\n",
       "      <td>done</td>\n",
       "    </tr>\n",
       "    <tr>\n",
       "      <th>4</th>\n",
       "      <td>David</td>\n",
       "      <td>Cisneros</td>\n",
       "      <td>female</td>\n",
       "      <td>Euroupe&amp;american&amp;Australia&amp;Russia female</td>\n",
       "      <td>Spanish</td>\n",
       "      <td>ba3c86b6-fb1a-4f51-a44e-11d4781d2ab2</td>\n",
       "      <td>Porter Springs</td>\n",
       "      <td>company</td>\n",
       "      <td>Emara 1</td>\n",
       "      <td>Democratic many nor heavy series. Military amo...</td>\n",
       "      <td>0008 Parrish Parks Apt. 382\\nNorth Christian, ...</td>\n",
       "      <td>2024-01-18</td>\n",
       "      <td>electric</td>\n",
       "      <td>tiktok</td>\n",
       "      <td>Half very city artist fire. Talk check full be...</td>\n",
       "      <td>done</td>\n",
       "    </tr>\n",
       "  </tbody>\n",
       "</table>\n",
       "</div>"
      ],
      "text/plain": [
       "  First Name Last Name  Gender                               Nationality  \\\n",
       "0    Charles   Jimenez    male                          asia&africa male   \n",
       "1    Barbara   Ramirez    male                                  UAE male   \n",
       "2     Victor     Silva  female                                UAE female   \n",
       "3       Gary  Phillips  female    Euroupe&american&Australia&Russia male   \n",
       "4      David  Cisneros  female  Euroupe&american&Australia&Russia female   \n",
       "\n",
       "  Language                                   TRN    Address Name     Type  \\\n",
       "0   French  2abe1446-3cd7-497d-8c80-aa800b222777       Joel Walk    house   \n",
       "1   French  92d57142-0da8-49d1-8891-0c4c4f0fcab6      Dawson Run  company   \n",
       "2  English  27bb7a33-aa22-4227-b01c-a55393fc5419      Molly Mall  company   \n",
       "3  Spanish  676339fd-f96a-4a75-8be4-5f67fa8404cb   Clark Gardens    house   \n",
       "4  Spanish  ba3c86b6-fb1a-4f51-a44e-11d4781d2ab2  Porter Springs  company   \n",
       "\n",
       "   Emirate                               Description Location  \\\n",
       "0  Emara 1  Perform information particular else past drop....   \n",
       "1  Emara 1  Computer may property. Special make character ...   \n",
       "2  Emara 3  Important glass identify live owner. Find sell...   \n",
       "3  Emara 3  Attorney rate pay positive kitchen or. From ho...   \n",
       "4  Emara 1  Democratic many nor heavy series. Military amo...   \n",
       "\n",
       "                                            Location Date Inquiry  \\\n",
       "0  4402 Schultz Knoll Suite 370\\nWest Jenniferche...   2024-02-02   \n",
       "1  1252 Ebony Hill Suite 719\\nPort Jacqueline, VT...   2024-01-05   \n",
       "2                        USCGC Compton\\nFPO AE 36672   2024-01-13   \n",
       "3      09467 Danielle Heights\\nEast Rachel, WI 97146   2024-03-13   \n",
       "4  0008 Parrish Parks Apt. 382\\nNorth Christian, ...   2024-01-18   \n",
       "\n",
       "        Services                 Source  \\\n",
       "0       electric                website   \n",
       "1  climatisation     whats up marketing   \n",
       "2  climatisation  from service provider   \n",
       "3        plumber               snapchat   \n",
       "4       electric                 tiktok   \n",
       "\n",
       "                                         Description Status  \n",
       "0  Sense social security food structure still tra...   done  \n",
       "1  Southern yeah list school. Voice let where eve...   done  \n",
       "2  Share size impact where set gun however. Direc...   done  \n",
       "3  Training early one success son hope. Top sound...   done  \n",
       "4  Half very city artist fire. Talk check full be...   done  "
      ]
     },
     "execution_count": 269,
     "metadata": {},
     "output_type": "execute_result"
    }
   ],
   "source": [
    "data.head()"
   ]
  },
  {
   "cell_type": "markdown",
   "id": "082fcb41",
   "metadata": {},
   "source": [
    "# Remove unnecessary columns"
   ]
  },
  {
   "cell_type": "code",
   "execution_count": 270,
   "id": "dc5a1067",
   "metadata": {},
   "outputs": [],
   "source": [
    "columns_to_remove = ['TRN', 'Address Name', 'Description Location', 'Location', 'Date Inquiry', 'Description']\n",
    "data = data.drop(columns=columns_to_remove)"
   ]
  },
  {
   "cell_type": "markdown",
   "id": "2623d144",
   "metadata": {},
   "source": [
    "# Replace 'underproccess' with 1 and all other values with 0"
   ]
  },
  {
   "cell_type": "code",
   "execution_count": 271,
   "id": "d81c906b",
   "metadata": {},
   "outputs": [],
   "source": [
    "data['success'] = data['Status'].replace({'underproccess': 0, 'done':1, 'pending': 0, 'connecting': 0, 'send Q or B': 0, 'cancel': 0, 'new': 0})"
   ]
  },
  {
   "cell_type": "code",
   "execution_count": 272,
   "id": "5c779b9b",
   "metadata": {},
   "outputs": [
    {
     "data": {
      "text/html": [
       "<div>\n",
       "<style scoped>\n",
       "    .dataframe tbody tr th:only-of-type {\n",
       "        vertical-align: middle;\n",
       "    }\n",
       "\n",
       "    .dataframe tbody tr th {\n",
       "        vertical-align: top;\n",
       "    }\n",
       "\n",
       "    .dataframe thead th {\n",
       "        text-align: right;\n",
       "    }\n",
       "</style>\n",
       "<table border=\"1\" class=\"dataframe\">\n",
       "  <thead>\n",
       "    <tr style=\"text-align: right;\">\n",
       "      <th></th>\n",
       "      <th>First Name</th>\n",
       "      <th>Last Name</th>\n",
       "      <th>Gender</th>\n",
       "      <th>Nationality</th>\n",
       "      <th>Language</th>\n",
       "      <th>Type</th>\n",
       "      <th>Emirate</th>\n",
       "      <th>Services</th>\n",
       "      <th>Source</th>\n",
       "      <th>Status</th>\n",
       "      <th>success</th>\n",
       "    </tr>\n",
       "  </thead>\n",
       "  <tbody>\n",
       "    <tr>\n",
       "      <th>0</th>\n",
       "      <td>Charles</td>\n",
       "      <td>Jimenez</td>\n",
       "      <td>male</td>\n",
       "      <td>asia&amp;africa male</td>\n",
       "      <td>French</td>\n",
       "      <td>house</td>\n",
       "      <td>Emara 1</td>\n",
       "      <td>electric</td>\n",
       "      <td>website</td>\n",
       "      <td>done</td>\n",
       "      <td>1</td>\n",
       "    </tr>\n",
       "    <tr>\n",
       "      <th>1</th>\n",
       "      <td>Barbara</td>\n",
       "      <td>Ramirez</td>\n",
       "      <td>male</td>\n",
       "      <td>UAE male</td>\n",
       "      <td>French</td>\n",
       "      <td>company</td>\n",
       "      <td>Emara 1</td>\n",
       "      <td>climatisation</td>\n",
       "      <td>whats up marketing</td>\n",
       "      <td>done</td>\n",
       "      <td>1</td>\n",
       "    </tr>\n",
       "    <tr>\n",
       "      <th>2</th>\n",
       "      <td>Victor</td>\n",
       "      <td>Silva</td>\n",
       "      <td>female</td>\n",
       "      <td>UAE female</td>\n",
       "      <td>English</td>\n",
       "      <td>company</td>\n",
       "      <td>Emara 3</td>\n",
       "      <td>climatisation</td>\n",
       "      <td>from service provider</td>\n",
       "      <td>done</td>\n",
       "      <td>1</td>\n",
       "    </tr>\n",
       "    <tr>\n",
       "      <th>3</th>\n",
       "      <td>Gary</td>\n",
       "      <td>Phillips</td>\n",
       "      <td>female</td>\n",
       "      <td>Euroupe&amp;american&amp;Australia&amp;Russia male</td>\n",
       "      <td>Spanish</td>\n",
       "      <td>house</td>\n",
       "      <td>Emara 3</td>\n",
       "      <td>plumber</td>\n",
       "      <td>snapchat</td>\n",
       "      <td>done</td>\n",
       "      <td>1</td>\n",
       "    </tr>\n",
       "    <tr>\n",
       "      <th>4</th>\n",
       "      <td>David</td>\n",
       "      <td>Cisneros</td>\n",
       "      <td>female</td>\n",
       "      <td>Euroupe&amp;american&amp;Australia&amp;Russia female</td>\n",
       "      <td>Spanish</td>\n",
       "      <td>company</td>\n",
       "      <td>Emara 1</td>\n",
       "      <td>electric</td>\n",
       "      <td>tiktok</td>\n",
       "      <td>done</td>\n",
       "      <td>1</td>\n",
       "    </tr>\n",
       "  </tbody>\n",
       "</table>\n",
       "</div>"
      ],
      "text/plain": [
       "  First Name Last Name  Gender                               Nationality  \\\n",
       "0    Charles   Jimenez    male                          asia&africa male   \n",
       "1    Barbara   Ramirez    male                                  UAE male   \n",
       "2     Victor     Silva  female                                UAE female   \n",
       "3       Gary  Phillips  female    Euroupe&american&Australia&Russia male   \n",
       "4      David  Cisneros  female  Euroupe&american&Australia&Russia female   \n",
       "\n",
       "  Language     Type  Emirate       Services                 Source Status  \\\n",
       "0   French    house  Emara 1       electric                website   done   \n",
       "1   French  company  Emara 1  climatisation     whats up marketing   done   \n",
       "2  English  company  Emara 3  climatisation  from service provider   done   \n",
       "3  Spanish    house  Emara 3        plumber               snapchat   done   \n",
       "4  Spanish  company  Emara 1       electric                 tiktok   done   \n",
       "\n",
       "   success  \n",
       "0        1  \n",
       "1        1  \n",
       "2        1  \n",
       "3        1  \n",
       "4        1  "
      ]
     },
     "execution_count": 272,
     "metadata": {},
     "output_type": "execute_result"
    }
   ],
   "source": [
    "data.head()"
   ]
  },
  {
   "cell_type": "code",
   "execution_count": null,
   "id": "8960ef71",
   "metadata": {},
   "outputs": [],
   "source": []
  },
  {
   "cell_type": "markdown",
   "id": "535c7c84",
   "metadata": {},
   "source": [
    "# categorization to digits"
   ]
  },
  {
   "cell_type": "code",
   "execution_count": 273,
   "id": "117898f4",
   "metadata": {},
   "outputs": [],
   "source": [
    "# Create a LabelEncoder object\n",
    "label_encoder = LabelEncoder()\n",
    "# Iterate over categorical columns and encode them\n",
    "categorical_columns = ['Gender', 'Nationality', 'Language', 'Type', 'Emirate', 'Services', 'Source', 'Status']\n",
    "for column in categorical_columns:\n",
    "    data[column] = label_encoder.fit_transform(data[column])\n"
   ]
  },
  {
   "cell_type": "code",
   "execution_count": 274,
   "id": "a80ebdcb",
   "metadata": {
    "scrolled": true
   },
   "outputs": [
    {
     "data": {
      "text/html": [
       "<div>\n",
       "<style scoped>\n",
       "    .dataframe tbody tr th:only-of-type {\n",
       "        vertical-align: middle;\n",
       "    }\n",
       "\n",
       "    .dataframe tbody tr th {\n",
       "        vertical-align: top;\n",
       "    }\n",
       "\n",
       "    .dataframe thead th {\n",
       "        text-align: right;\n",
       "    }\n",
       "</style>\n",
       "<table border=\"1\" class=\"dataframe\">\n",
       "  <thead>\n",
       "    <tr style=\"text-align: right;\">\n",
       "      <th></th>\n",
       "      <th>First Name</th>\n",
       "      <th>Last Name</th>\n",
       "      <th>Gender</th>\n",
       "      <th>Nationality</th>\n",
       "      <th>Language</th>\n",
       "      <th>Type</th>\n",
       "      <th>Emirate</th>\n",
       "      <th>Services</th>\n",
       "      <th>Source</th>\n",
       "      <th>Status</th>\n",
       "      <th>success</th>\n",
       "    </tr>\n",
       "  </thead>\n",
       "  <tbody>\n",
       "    <tr>\n",
       "      <th>0</th>\n",
       "      <td>Charles</td>\n",
       "      <td>Jimenez</td>\n",
       "      <td>1</td>\n",
       "      <td>8</td>\n",
       "      <td>2</td>\n",
       "      <td>1</td>\n",
       "      <td>0</td>\n",
       "      <td>1</td>\n",
       "      <td>15</td>\n",
       "      <td>2</td>\n",
       "      <td>1</td>\n",
       "    </tr>\n",
       "    <tr>\n",
       "      <th>1</th>\n",
       "      <td>Barbara</td>\n",
       "      <td>Ramirez</td>\n",
       "      <td>1</td>\n",
       "      <td>3</td>\n",
       "      <td>2</td>\n",
       "      <td>0</td>\n",
       "      <td>0</td>\n",
       "      <td>0</td>\n",
       "      <td>17</td>\n",
       "      <td>2</td>\n",
       "      <td>1</td>\n",
       "    </tr>\n",
       "    <tr>\n",
       "      <th>2</th>\n",
       "      <td>Victor</td>\n",
       "      <td>Silva</td>\n",
       "      <td>0</td>\n",
       "      <td>2</td>\n",
       "      <td>1</td>\n",
       "      <td>0</td>\n",
       "      <td>2</td>\n",
       "      <td>0</td>\n",
       "      <td>6</td>\n",
       "      <td>2</td>\n",
       "      <td>1</td>\n",
       "    </tr>\n",
       "    <tr>\n",
       "      <th>3</th>\n",
       "      <td>Gary</td>\n",
       "      <td>Phillips</td>\n",
       "      <td>0</td>\n",
       "      <td>1</td>\n",
       "      <td>3</td>\n",
       "      <td>1</td>\n",
       "      <td>2</td>\n",
       "      <td>2</td>\n",
       "      <td>12</td>\n",
       "      <td>2</td>\n",
       "      <td>1</td>\n",
       "    </tr>\n",
       "    <tr>\n",
       "      <th>4</th>\n",
       "      <td>David</td>\n",
       "      <td>Cisneros</td>\n",
       "      <td>0</td>\n",
       "      <td>0</td>\n",
       "      <td>3</td>\n",
       "      <td>0</td>\n",
       "      <td>0</td>\n",
       "      <td>1</td>\n",
       "      <td>14</td>\n",
       "      <td>2</td>\n",
       "      <td>1</td>\n",
       "    </tr>\n",
       "  </tbody>\n",
       "</table>\n",
       "</div>"
      ],
      "text/plain": [
       "  First Name Last Name  Gender  Nationality  Language  Type  Emirate  \\\n",
       "0    Charles   Jimenez       1            8         2     1        0   \n",
       "1    Barbara   Ramirez       1            3         2     0        0   \n",
       "2     Victor     Silva       0            2         1     0        2   \n",
       "3       Gary  Phillips       0            1         3     1        2   \n",
       "4      David  Cisneros       0            0         3     0        0   \n",
       "\n",
       "   Services  Source  Status  success  \n",
       "0         1      15       2        1  \n",
       "1         0      17       2        1  \n",
       "2         0       6       2        1  \n",
       "3         2      12       2        1  \n",
       "4         1      14       2        1  "
      ]
     },
     "execution_count": 274,
     "metadata": {},
     "output_type": "execute_result"
    }
   ],
   "source": [
    "# Display the encoded dataframe\n",
    "data.head()"
   ]
  },
  {
   "cell_type": "markdown",
   "id": "9e02fe50",
   "metadata": {},
   "source": [
    "# correlation matrix"
   ]
  },
  {
   "cell_type": "code",
   "execution_count": 275,
   "id": "56cd13a2",
   "metadata": {},
   "outputs": [],
   "source": [
    "# Compute the correlation matrix\n",
    "correlation_matrix = data.corr()"
   ]
  },
  {
   "cell_type": "code",
   "execution_count": 276,
   "id": "41b16a8b",
   "metadata": {},
   "outputs": [
    {
     "data": {
      "image/png": "[encoded data removed]",
      "text/plain": [
       "<Figure size 864x576 with 2 Axes>"
      ]
     },
     "metadata": {
      "needs_background": "light"
     },
     "output_type": "display_data"
    }
   ],
   "source": [
    "# Create a heatmap\n",
    "plt.figure(figsize=(12, 8))\n",
    "sns.heatmap(correlation_matrix, annot=True, cmap='coolwarm', fmt=\".2f\")\n",
    "plt.title('Correlation Matrix')\n",
    "plt.show()"
   ]
  },
  {
   "cell_type": "markdown",
   "id": "b456a395",
   "metadata": {},
   "source": [
    "# Normalisation"
   ]
  },
  {
   "cell_type": "code",
   "execution_count": 277,
   "id": "c6725900",
   "metadata": {},
   "outputs": [],
   "source": [
    "# Initialize the scaler\n",
    "scaler = MinMaxScaler()\n",
    "\n",
    "# Normalize the data except for the 'success' column\n",
    "data_normalized = data.copy()[['Gender','Nationality','Language','Type','Emirate','Services','Source','Status','success']]\n",
    "data_normalized[data_normalized.columns.difference(['success'])] = scaler.fit_transform(data_normalized[data_normalized.columns.difference(['success'])])"
   ]
  },
  {
   "cell_type": "code",
   "execution_count": 278,
   "id": "74793406",
   "metadata": {},
   "outputs": [
    {
     "data": {
      "text/plain": [
       "503"
      ]
     },
     "execution_count": 278,
     "metadata": {},
     "output_type": "execute_result"
    }
   ],
   "source": [
    "# Display the normalized data\n",
    "len(data_normalized[data_normalized['success'] == 1])"
   ]
  },
  {
   "cell_type": "code",
   "execution_count": null,
   "id": "8bbe92fc",
   "metadata": {},
   "outputs": [],
   "source": []
  },
  {
   "cell_type": "markdown",
   "id": "e5dcfa88",
   "metadata": {},
   "source": [
    "# Split the data into training and testing sets"
   ]
  },
  {
   "cell_type": "code",
   "execution_count": 279,
   "id": "77e5517d",
   "metadata": {},
   "outputs": [],
   "source": [
    "X = data_normalized[['Gender','Nationality','Language','Type','Emirate','Services','Source']]\n",
    "y = data_normalized[['success']]\n",
    "\n",
    "X_train, X_test, y_train, y_test = train_test_split(X, y, test_size=0.2, random_state=42)"
   ]
  },
  {
   "cell_type": "code",
   "execution_count": 280,
   "id": "273d1173",
   "metadata": {},
   "outputs": [
    {
     "data": {
      "text/html": [
       "<div>\n",
       "<style scoped>\n",
       "    .dataframe tbody tr th:only-of-type {\n",
       "        vertical-align: middle;\n",
       "    }\n",
       "\n",
       "    .dataframe tbody tr th {\n",
       "        vertical-align: top;\n",
       "    }\n",
       "\n",
       "    .dataframe thead th {\n",
       "        text-align: right;\n",
       "    }\n",
       "</style>\n",
       "<table border=\"1\" class=\"dataframe\">\n",
       "  <thead>\n",
       "    <tr style=\"text-align: right;\">\n",
       "      <th></th>\n",
       "      <th>success</th>\n",
       "    </tr>\n",
       "  </thead>\n",
       "  <tbody>\n",
       "    <tr>\n",
       "      <th>29</th>\n",
       "      <td>0</td>\n",
       "    </tr>\n",
       "    <tr>\n",
       "      <th>535</th>\n",
       "      <td>1</td>\n",
       "    </tr>\n",
       "    <tr>\n",
       "      <th>695</th>\n",
       "      <td>0</td>\n",
       "    </tr>\n",
       "    <tr>\n",
       "      <th>557</th>\n",
       "      <td>0</td>\n",
       "    </tr>\n",
       "    <tr>\n",
       "      <th>836</th>\n",
       "      <td>0</td>\n",
       "    </tr>\n",
       "    <tr>\n",
       "      <th>...</th>\n",
       "      <td>...</td>\n",
       "    </tr>\n",
       "    <tr>\n",
       "      <th>106</th>\n",
       "      <td>0</td>\n",
       "    </tr>\n",
       "    <tr>\n",
       "      <th>270</th>\n",
       "      <td>1</td>\n",
       "    </tr>\n",
       "    <tr>\n",
       "      <th>860</th>\n",
       "      <td>0</td>\n",
       "    </tr>\n",
       "    <tr>\n",
       "      <th>435</th>\n",
       "      <td>0</td>\n",
       "    </tr>\n",
       "    <tr>\n",
       "      <th>102</th>\n",
       "      <td>1</td>\n",
       "    </tr>\n",
       "  </tbody>\n",
       "</table>\n",
       "<p>800 rows × 1 columns</p>\n",
       "</div>"
      ],
      "text/plain": [
       "     success\n",
       "29         0\n",
       "535        1\n",
       "695        0\n",
       "557        0\n",
       "836        0\n",
       "..       ...\n",
       "106        0\n",
       "270        1\n",
       "860        0\n",
       "435        0\n",
       "102        1\n",
       "\n",
       "[800 rows x 1 columns]"
      ]
     },
     "execution_count": 280,
     "metadata": {},
     "output_type": "execute_result"
    }
   ],
   "source": [
    "y_train"
   ]
  },
  {
   "cell_type": "markdown",
   "id": "2b2cb2ed",
   "metadata": {},
   "source": [
    "# Train the model"
   ]
  },
  {
   "cell_type": "code",
   "execution_count": 281,
   "id": "52039ef3",
   "metadata": {},
   "outputs": [
    {
     "name": "stderr",
     "output_type": "stream",
     "text": [
      "C:\\ProgramData\\Anaconda3\\lib\\site-packages\\sklearn\\utils\\validation.py:993: DataConversionWarning: A column-vector y was passed when a 1d array was expected. Please change the shape of y to (n_samples, ), for example using ravel().\n",
      "  y = column_or_1d(y, warn=True)\n"
     ]
    }
   ],
   "source": [
    "# Initialize the Logistic Regression model\n",
    "model = LogisticRegression()\n",
    "# Train the model\n",
    "model.fit(X_train, y_train)\n",
    "# Predict on the testing set\n",
    "y_pred = model.predict(X_test)"
   ]
  },
  {
   "cell_type": "markdown",
   "id": "df668a48",
   "metadata": {},
   "source": [
    "# Calculate the accuracy of the model"
   ]
  },
  {
   "cell_type": "code",
   "execution_count": 282,
   "id": "2ff3542f",
   "metadata": {},
   "outputs": [
    {
     "name": "stdout",
     "output_type": "stream",
     "text": [
      "Accuracy: 0.51\n"
     ]
    }
   ],
   "source": [
    "accuracy = accuracy_score(y_test, y_pred)\n",
    "print(\"Accuracy:\", accuracy)"
   ]
  },
  {
   "cell_type": "code",
   "execution_count": null,
   "id": "ddb68a9f",
   "metadata": {},
   "outputs": [],
   "source": []
  },
  {
   "cell_type": "code",
   "execution_count": 283,
   "id": "616d4da7",
   "metadata": {},
   "outputs": [],
   "source": [
    "ex = np.array(['1.0','0.333333','1.000000','0.0','0.5','0.5','0.588235']).reshape(1, -1)"
   ]
  },
  {
   "cell_type": "code",
   "execution_count": 284,
   "id": "864d8969",
   "metadata": {},
   "outputs": [
    {
     "name": "stderr",
     "output_type": "stream",
     "text": [
      "C:\\ProgramData\\Anaconda3\\lib\\site-packages\\sklearn\\base.py:450: UserWarning: X does not have valid feature names, but LogisticRegression was fitted with feature names\n",
      "  warnings.warn(\n",
      "C:\\ProgramData\\Anaconda3\\lib\\site-packages\\sklearn\\base.py:566: FutureWarning: Arrays of bytes/strings is being converted to decimal numbers if dtype='numeric'. This behavior is deprecated in 0.24 and will be removed in 1.1 (renaming of 0.26). Please convert your data to numeric values explicitly instead.\n",
      "  X = check_array(X, **check_params)\n"
     ]
    },
    {
     "data": {
      "text/plain": [
       "0"
      ]
     },
     "execution_count": 284,
     "metadata": {},
     "output_type": "execute_result"
    }
   ],
   "source": [
    "model.predict(ex)[0]"
   ]
  },
  {
   "cell_type": "code",
   "execution_count": null,
   "id": "e8ee06f6",
   "metadata": {},
   "outputs": [],
   "source": []
  },
  {
   "cell_type": "code",
   "execution_count": 285,
   "id": "14100b50",
   "metadata": {},
   "outputs": [],
   "source": [
    "y_pred = model.predict(X_test)"
   ]
  },
  {
   "cell_type": "code",
   "execution_count": 286,
   "id": "e1bf27db",
   "metadata": {},
   "outputs": [
    {
     "data": {
      "text/plain": [
       "array([0, 1, 0, 0, 1, 0, 1, 0, 1, 0, 1, 0, 0, 0, 0, 1, 1, 0, 1, 0, 1, 0,\n",
       "       1, 1, 0, 0, 0, 0, 0, 1, 1, 1, 1, 0, 1, 1, 0, 1, 0, 1, 1, 0, 0, 0,\n",
       "       0, 0, 0, 1, 1, 0, 1, 0, 1, 1, 1, 1, 0, 1, 0, 1, 1, 1, 1, 1, 1, 0,\n",
       "       0, 0, 1, 0, 1, 1, 1, 0, 0, 1, 1, 1, 1, 0, 1, 0, 0, 0, 1, 0, 1, 1,\n",
       "       1, 1, 0, 0, 1, 0, 0, 0, 0, 0, 1, 1, 1, 0, 0, 1, 1, 1, 0, 1, 0, 1,\n",
       "       1, 0, 0, 1, 1, 0, 0, 0, 0, 0, 1, 0, 1, 1, 1, 1, 0, 1, 0, 1, 0, 1,\n",
       "       1, 1, 0, 0, 1, 1, 0, 1, 0, 0, 0, 1, 1, 0, 1, 0, 1, 1, 0, 0, 1, 1,\n",
       "       0, 1, 0, 1, 0, 0, 1, 1, 1, 0, 0, 1, 0, 1, 1, 1, 1, 0, 0, 1, 1, 1,\n",
       "       1, 1, 0, 0, 0, 0, 1, 0, 1, 1, 0, 1, 1, 1, 1, 0, 0, 1, 0, 0, 0, 1,\n",
       "       0, 1], dtype=int64)"
      ]
     },
     "execution_count": 286,
     "metadata": {},
     "output_type": "execute_result"
    }
   ],
   "source": [
    "y_pred"
   ]
  },
  {
   "cell_type": "code",
   "execution_count": null,
   "id": "7e78b1bf",
   "metadata": {},
   "outputs": [],
   "source": []
  }
 ],
 "metadata": {
  "kernelspec": {
   "display_name": "Python 3 (ipykernel)",
   "language": "python",
   "name": "python3"
  },
  "language_info": {
   "codemirror_mode": {
    "name": "ipython",
    "version": 3
   },
   "file_extension": ".py",
   "mimetype": "text/x-python",
   "name": "python",
   "nbconvert_exporter": "python",
   "pygments_lexer": "ipython3",
   "version": "3.9.12"
  }
 },
 "nbformat": 4,
 "nbformat_minor": 5
}
